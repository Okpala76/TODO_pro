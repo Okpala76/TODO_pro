{
 "cells": [
  {
   "cell_type": "code",
   "execution_count": 5,
   "metadata": {},
   "outputs": [
    {
     "data": {
      "text/plain": [
       "1"
      ]
     },
     "execution_count": 5,
     "metadata": {},
     "output_type": "execute_result"
    }
   ],
   "source": [
    "milk = [\"run\", \"slide\",\"max\"]\n",
    "\n",
    "milk.index(\"run\")+1"
   ]
  },
  {
   "cell_type": "code",
   "execution_count": 3,
   "metadata": {},
   "outputs": [
    {
     "name": "stdout",
     "output_type": "stream",
     "text": [
      "This input is not an integer\n",
      "This input is not an integer\n"
     ]
    }
   ],
   "source": [
    "Boo = True\n",
    "while Boo:\n",
    "    task_id = input(\"What task number are you trying to change: \")\n",
    "    if task_id.isdigit():\n",
    "        Boo = False\n",
    "    else:\n",
    "        print(\"This input is not an integer\")\n",
    "        continue"
   ]
  },
  {
   "cell_type": "code",
   "execution_count": 2,
   "metadata": {},
   "outputs": [
    {
     "data": {
      "text/plain": [
       "False"
      ]
     },
     "execution_count": 2,
     "metadata": {},
     "output_type": "execute_result"
    }
   ],
   "source": [
    "\"we\".isdigit()"
   ]
  },
  {
   "cell_type": "code",
   "execution_count": 8,
   "metadata": {},
   "outputs": [
    {
     "name": "stdout",
     "output_type": "stream",
     "text": [
      "x\n"
     ]
    }
   ],
   "source": [
    "if 1 in range(1, 4):\n",
    "    print(\"x\")"
   ]
  },
  {
   "cell_type": "code",
   "execution_count": 9,
   "metadata": {},
   "outputs": [
    {
     "data": {
      "text/plain": [
       "26"
      ]
     },
     "execution_count": 9,
     "metadata": {},
     "output_type": "execute_result"
    }
   ],
   "source": [
    "x = {1:24,2:25,3:26}\n",
    "\n",
    "x[3]"
   ]
  },
  {
   "cell_type": "code",
   "execution_count": 16,
   "metadata": {},
   "outputs": [
    {
     "data": {
      "text/plain": [
       "True"
      ]
     },
     "execution_count": 16,
     "metadata": {},
     "output_type": "execute_result"
    }
   ],
   "source": [
    "x = \"1\"\n",
    "\n",
    "x.isdigit()"
   ]
  },
  {
   "cell_type": "code",
   "execution_count": 12,
   "metadata": {},
   "outputs": [
    {
     "name": "stdout",
     "output_type": "stream",
     "text": [
      "\n",
      "        Welcome to  Todo.\n",
      "        You have taken the first step towards getting your life organised and achieving your goals. \n",
      "        This app is designed to help you prioritise your tasks, stay focused, and boost your productivity.\n",
      "\n",
      "        With Todo, you can:\n",
      "        - Create and manage your to-do lists with ease.\n",
      "        - Set reminders and due dates to stay on track.\n",
      "        - Track your progress and celebrate your accomplishments.\n",
      "        - Stay organised and focused on what matters most. \n",
      "                             \n",
      "        Let's get started and amke today count.\n",
      "        \n"
     ]
    }
   ],
   "source": [
    "class Todo():\n",
    "    def __init__(self):\n",
    "        # a statment to greet and introduce the user to our application\n",
    "        self.welcome = print (\"\"\"\n",
    "        Welcome to  Todo.\n",
    "        You have taken the first step towards getting your life organised and achieving your goals. \n",
    "        This app is designed to help you prioritise your tasks, stay focused, and boost your productivity.\n",
    "\n",
    "        With Todo, you can:\n",
    "        - Create and manage your to-do lists with ease.\n",
    "        - Set reminders and due dates to stay on track.\n",
    "        - Track your progress and celebrate your accomplishments.\n",
    "        - Stay organised and focused on what matters most. \n",
    "                             \n",
    "        Let's get started and amke today count.\n",
    "        \"\"\")\n",
    "        \n",
    "        # a list holding all tasks in place\n",
    "        self.alltask = []\n",
    "\n",
    "        #a variable holding all commands \n",
    "        self.manual ='''\n",
    "        Commands: \n",
    "            create ----- To create todo item\n",
    "            update ----- To update todo lsit\n",
    "            read   ----- To view created tasks\n",
    "            exit   ----- To exit todo list\n",
    "            view   ----- To view todo items\n",
    "            help   ----- To view manual\n",
    "            '''\n",
    "\n",
    "\n",
    "\n",
    "    def create(self):\n",
    "        # requesting task name and time from user\n",
    "        task_name = str(input(\"What task do you perform: \"))  #!input always give strings as output.\n",
    "        task_time = str(input(\"At what time do you what to carry ot task: \")) \n",
    "        # CREATING THE TASK\n",
    "        task_row = {\"task_id\":len(self.alltask)+1, \"task_name\": task_name, \"task_status\": \"Not Done\", \"task_time\": task_time } #! i edited task id and added +1, so that the id of every new task will be higer than d last\n",
    "        self.alltask.append(task_row)\n",
    "        \n",
    "    def read(self):\n",
    "        for todo_items in self.alltask:\n",
    "            print(todo_items) \n",
    "\n",
    "    def update(self):\n",
    "        # initializing a variable to hold the task_id of the task to be marked done\n",
    "\n",
    "        while True:\n",
    "            task_id = input(\"What task number are you trying to change: \")\n",
    "            if task_id.isdigit() and int(task_id) in range(1,len(self.alltask)+1):\n",
    "                break\n",
    "            else:\n",
    "                print(\"This input is not an integer or out of range\")\n",
    "                continue\n",
    "\n",
    "        print(f\"The status of this task is currently:{self.alltask[int(task_id)-1]['task_status']}\")\n",
    "\n",
    "        # this while loop will ensure the user wants to perform change as well as perform checks on user input\n",
    "\n",
    "        while True:\n",
    "            x = input(\"Do you want to go ahead and change status: Y or N\")\n",
    "            if x.capitalize() == \"Y\":\n",
    "                self.alltask[int(task_id)-1][\"task_status\"] = \"Done\"\n",
    "                print(f\"The status of the task {self.alltask[int(task_id)-1]['task_name']} has been updated to {self.alltask[int(task_id)-1]['task_status']} \")\n",
    "                break\n",
    "            elif x.capitalize() == \"N\":\n",
    "                break\n",
    "            else:\n",
    "                print(\"The value inputted is not a 'Y' or 'N': Try again....\")\n",
    "                continue  \n",
    "        \n",
    "\n",
    "\n",
    "    def delete(self):\n",
    "        pass\n",
    "    def time(self):\n",
    "        pass\n",
    "    def mail_reminder(self):\n",
    "        pass\n",
    "\n",
    "\n",
    "\n",
    "\n",
    "\n",
    "\n",
    "\n",
    "\n",
    "\n"
   ]
  },
  {
   "cell_type": "code",
   "execution_count": 13,
   "metadata": {},
   "outputs": [
    {
     "name": "stdout",
     "output_type": "stream",
     "text": [
      "\n",
      "        Welcome to  Todo.\n",
      "        You have taken the first step towards getting your life organised and achieving your goals. \n",
      "        This app is designed to help you prioritise your tasks, stay focused, and boost your productivity.\n",
      "\n",
      "        With Todo, you can:\n",
      "        - Create and manage your to-do lists with ease.\n",
      "        - Set reminders and due dates to stay on track.\n",
      "        - Track your progress and celebrate your accomplishments.\n",
      "        - Stay organised and focused on what matters most. \n",
      "                             \n",
      "        Let's get started and amke today count.\n",
      "        \n"
     ]
    }
   ],
   "source": [
    "me = Todo()\n",
    "\n",
    "me.create()\n"
   ]
  },
  {
   "cell_type": "code",
   "execution_count": 14,
   "metadata": {},
   "outputs": [
    {
     "name": "stdout",
     "output_type": "stream",
     "text": [
      "The status of this task is currently:Not Done\n",
      "The status of the task read has been updated to Done \n"
     ]
    }
   ],
   "source": [
    "me.update()"
   ]
  },
  {
   "cell_type": "code",
   "execution_count": 3,
   "metadata": {},
   "outputs": [
    {
     "name": "stdout",
     "output_type": "stream",
     "text": [
      "x\n"
     ]
    }
   ],
   "source": [
    "if 1 in range(0,2):\n",
    "    print(\"x\")"
   ]
  },
  {
   "cell_type": "code",
   "execution_count": 7,
   "metadata": {},
   "outputs": [
    {
     "name": "stdout",
     "output_type": "stream",
     "text": [
      "1\n"
     ]
    }
   ],
   "source": [
    "for x in range(1,2):\n",
    "    print(x)"
   ]
  },
  {
   "cell_type": "code",
   "execution_count": 9,
   "metadata": {},
   "outputs": [
    {
     "data": {
      "text/plain": [
       "True"
      ]
     },
     "execution_count": 9,
     "metadata": {},
     "output_type": "execute_result"
    }
   ],
   "source": [
    "\"1\".isdigit()"
   ]
  },
  {
   "cell_type": "code",
   "execution_count": 15,
   "metadata": {},
   "outputs": [
    {
     "data": {
      "text/plain": [
       "16"
      ]
     },
     "execution_count": 15,
     "metadata": {},
     "output_type": "execute_result"
    }
   ],
   "source": [
    " password = \"lwbpreoktpqlzzsz\"\n",
    "\n",
    "len(password)"
   ]
  },
  {
   "cell_type": "code",
   "execution_count": 16,
   "metadata": {},
   "outputs": [],
   "source": [
    "max = input(\"my name is:\")"
   ]
  },
  {
   "cell_type": "code",
   "execution_count": 17,
   "metadata": {},
   "outputs": [
    {
     "data": {
      "text/plain": [
       "'1'"
      ]
     },
     "execution_count": 17,
     "metadata": {},
     "output_type": "execute_result"
    }
   ],
   "source": [
    "max"
   ]
  },
  {
   "cell_type": "code",
   "execution_count": null,
   "metadata": {},
   "outputs": [],
   "source": []
  }
 ],
 "metadata": {
  "kernelspec": {
   "display_name": "base",
   "language": "python",
   "name": "python3"
  },
  "language_info": {
   "codemirror_mode": {
    "name": "ipython",
    "version": 3
   },
   "file_extension": ".py",
   "mimetype": "text/x-python",
   "name": "python",
   "nbconvert_exporter": "python",
   "pygments_lexer": "ipython3",
   "version": "3.10.9"
  }
 },
 "nbformat": 4,
 "nbformat_minor": 2
}
